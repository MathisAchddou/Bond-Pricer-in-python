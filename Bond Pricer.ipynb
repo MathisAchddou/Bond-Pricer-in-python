{
 "cells": [
  {
   "cell_type": "code",
   "execution_count": 6,
   "id": "f994ff6b",
   "metadata": {},
   "outputs": [],
   "source": [
    "# import necessary modules\n",
    "import yfinance as yf\n",
    "import numpy as np\n",
    "import pandas as pd\n",
    "import matplotlib.pyplot as plt\n",
    "import datetime as dt"
   ]
  },
  {
   "cell_type": "code",
   "execution_count": 68,
   "id": "f9c86976",
   "metadata": {},
   "outputs": [
    {
     "name": "stdout",
     "output_type": "stream",
     "text": [
      "Nominal : 1000\n"
     ]
    }
   ],
   "source": [
    "Nominal = float(input(\"Nominal : \"))"
   ]
  },
  {
   "cell_type": "code",
   "execution_count": 69,
   "id": "4893127c",
   "metadata": {},
   "outputs": [
    {
     "name": "stdout",
     "output_type": "stream",
     "text": [
      "Coupon rate : 0.05\n"
     ]
    }
   ],
   "source": [
    "Coupon_rate = float(input(\"Coupon rate : \"))"
   ]
  },
  {
   "cell_type": "code",
   "execution_count": 70,
   "id": "d24791d0",
   "metadata": {},
   "outputs": [
    {
     "name": "stdout",
     "output_type": "stream",
     "text": [
      "Required rate of return : 0.04\n"
     ]
    }
   ],
   "source": [
    "Rate_required_by_the_investor = float(input(\"Required rate of return : \"))"
   ]
  },
  {
   "cell_type": "code",
   "execution_count": 102,
   "id": "1734cb6f",
   "metadata": {},
   "outputs": [
    {
     "name": "stdout",
     "output_type": "stream",
     "text": [
      "Periodicity of coupon : 1\n"
     ]
    }
   ],
   "source": [
    "Periodicity_of_coupon = int(input(\"Periodicity of coupon : \"))"
   ]
  },
  {
   "cell_type": "code",
   "execution_count": 73,
   "id": "57ff3413",
   "metadata": {},
   "outputs": [
    {
     "name": "stdout",
     "output_type": "stream",
     "text": [
      "Number of years : 10\n"
     ]
    }
   ],
   "source": [
    "Number_of_years = int(input(\"Number of years : \"))"
   ]
  },
  {
   "cell_type": "code",
   "execution_count": 103,
   "id": "acfd0503",
   "metadata": {},
   "outputs": [],
   "source": [
    "price = 0\n",
    "for i in range(1,Number_of_years*Periodicity_of_coupon+1):\n",
    "    george = (Coupon_rate*Nominal)/Periodicity_of_coupon/ (1+(Rate_required_by_the_investor/Periodicity_of_coupon))**i\n",
    "    price += george\n",
    "price+= Nominal / (1+(Rate_required_by_the_investor/Periodicity_of_coupon))**(Number_of_years*Periodicity_of_coupon)"
   ]
  },
  {
   "cell_type": "code",
   "execution_count": 105,
   "id": "cdf6cd15",
   "metadata": {},
   "outputs": [
    {
     "data": {
      "text/plain": [
       "1081.10895779355"
      ]
     },
     "execution_count": 105,
     "metadata": {},
     "output_type": "execute_result"
    }
   ],
   "source": [
    "price"
   ]
  },
  {
   "cell_type": "code",
   "execution_count": null,
   "id": "cd3cc75f",
   "metadata": {},
   "outputs": [],
   "source": [
    "#what is the yield ?\n",
    "\n",
    "# Yield=Annual Coupon Payment / Current Market Price × 100"
   ]
  },
  {
   "cell_type": "code",
   "execution_count": 107,
   "id": "9129c8bb",
   "metadata": {},
   "outputs": [
    {
     "name": "stdout",
     "output_type": "stream",
     "text": [
      "Annual coupon payment : 50\n",
      "Current Market Price : 1081.10895779355\n"
     ]
    }
   ],
   "source": [
    "Annual_Coupon_Payment = int(input(\"Annual coupon payment : \"))\n",
    "Current_Market_Price = float(input(\"Current Market Price : \"))"
   ]
  },
  {
   "cell_type": "code",
   "execution_count": 108,
   "id": "a1da2563",
   "metadata": {},
   "outputs": [],
   "source": [
    "Yield = (Annual_Coupon_Payment / Current_Market_Price) * 100"
   ]
  },
  {
   "cell_type": "code",
   "execution_count": 109,
   "id": "9bbcc9c5",
   "metadata": {},
   "outputs": [
    {
     "data": {
      "text/plain": [
       "4.624880743014625"
      ]
     },
     "execution_count": 109,
     "metadata": {},
     "output_type": "execute_result"
    }
   ],
   "source": [
    "Yield"
   ]
  },
  {
   "cell_type": "code",
   "execution_count": null,
   "id": "42c17fd9",
   "metadata": {},
   "outputs": [],
   "source": []
  }
 ],
 "metadata": {
  "kernelspec": {
   "display_name": "Python 3 (ipykernel)",
   "language": "python",
   "name": "python3"
  },
  "language_info": {
   "codemirror_mode": {
    "name": "ipython",
    "version": 3
   },
   "file_extension": ".py",
   "mimetype": "text/x-python",
   "name": "python",
   "nbconvert_exporter": "python",
   "pygments_lexer": "ipython3",
   "version": "3.11.5"
  }
 },
 "nbformat": 4,
 "nbformat_minor": 5
}
